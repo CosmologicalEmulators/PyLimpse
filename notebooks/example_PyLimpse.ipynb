{
 "cells": [
  {
   "cell_type": "code",
   "execution_count": null,
   "id": "5e2ba961-8637-491d-b89c-9bd12ff89757",
   "metadata": {},
   "outputs": [],
   "source": [
    "import numpy as np\n",
    "import sys\n",
    "sys.path.append('/home/mbonici/Desktop/PyLimpse/src') # write the path were you put PyCapse\n",
    "import PyLimpse\n",
    "import matplotlib.pyplot as plt"
   ]
  },
  {
   "cell_type": "code",
   "execution_count": null,
   "id": "dbc86a59-2608-4adb-8549-3050d0b071ec",
   "metadata": {},
   "outputs": [],
   "source": [
    "input_test = np.array([2.8472231, 1.0196047, 0.72768, 0.0206263, 0.1492, 0.289396, 0.685177])"
   ]
  },
  {
   "cell_type": "code",
   "execution_count": null,
   "id": "b14fd704-5285-4c96-8586-0a8a81b43c1a",
   "metadata": {},
   "outputs": [],
   "source": [
    "Pk_emu = PyLimpse.load_emu('/home/mbonici/Desktop/Limpse_trainer/notebooks/emulator_Pk.bson')"
   ]
  },
  {
   "cell_type": "code",
   "execution_count": null,
   "id": "b1b4e2e2-d033-4b8e-92f5-cad21ef55156",
   "metadata": {},
   "outputs": [],
   "source": [
    "k = Pk_emu.kgrid\n",
    "Pk = PyLimpse.compute_Pk(input_test, Pk_emu)"
   ]
  },
  {
   "cell_type": "code",
   "execution_count": null,
   "id": "05de17ad-bb96-4f74-b3cc-0db2b04991fd",
   "metadata": {},
   "outputs": [],
   "source": [
    "%timeit PyLimpse.compute_Pk(input_test, Pk_emu)"
   ]
  },
  {
   "cell_type": "code",
   "execution_count": null,
   "id": "c79acf08-8426-4f1d-ac66-30253157746d",
   "metadata": {},
   "outputs": [],
   "source": [
    "plt.loglog(k, Pk)"
   ]
  }
 ],
 "metadata": {
  "kernelspec": {
   "display_name": "Python 3 (ipykernel)",
   "language": "python",
   "name": "python3"
  },
  "language_info": {
   "codemirror_mode": {
    "name": "ipython",
    "version": 3
   },
   "file_extension": ".py",
   "mimetype": "text/x-python",
   "name": "python",
   "nbconvert_exporter": "python",
   "pygments_lexer": "ipython3",
   "version": "3.10.4"
  }
 },
 "nbformat": 4,
 "nbformat_minor": 5
}
